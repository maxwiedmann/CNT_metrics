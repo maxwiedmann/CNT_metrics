{
 "cells": [
  {
   "cell_type": "code",
   "execution_count": 164,
   "metadata": {},
   "outputs": [],
   "source": [
    "import pandas as pd\n",
    "\n",
    "# Import libraries and modules\n",
    "import numpy as np\n",
    "import matplotlib.pyplot as plt\n",
    "from sklearn.model_selection import train_test_split;\n",
    "\n",
    "from tensorflow.keras.models import Sequential;\n",
    "from tensorflow.keras.layers import Dense, Input, Dropout, Flatten, Conv2D, MaxPooling2D;\n",
    "from tensorflow.keras import utils;\n",
    "from tensorflow.keras.applications.vgg16 import VGG16;\n",
    "from tensorflow.keras.optimizers import RMSprop;"
   ]
  },
  {
   "cell_type": "code",
   "execution_count": 215,
   "metadata": {},
   "outputs": [],
   "source": [
    "df = pd.read_pickle('3_datasets_2018_10_22_no_aug')"
   ]
  },
  {
   "cell_type": "code",
   "execution_count": 261,
   "metadata": {},
   "outputs": [
    {
     "data": {
      "text/plain": [
       "2033"
      ]
     },
     "execution_count": 261,
     "metadata": {},
     "output_type": "execute_result"
    }
   ],
   "source": [
    "len(df)"
   ]
  },
  {
   "cell_type": "code",
   "execution_count": 216,
   "metadata": {},
   "outputs": [
    {
     "data": {
      "text/plain": [
       "0.42493887530562346"
      ]
     },
     "execution_count": 216,
     "metadata": {},
     "output_type": "execute_result"
    }
   ],
   "source": [
    "df['has_cnt'].mean() # percentage of the data that contains a valid CNT measurment location"
   ]
  },
  {
   "cell_type": "code",
   "execution_count": 217,
   "metadata": {},
   "outputs": [],
   "source": [
    "# there are some images that didn't load in with the right shape\n",
    "# let's filter them out\n",
    "\n",
    "# check the shape of each 'img' entry then filter\n",
    "is_shaped = [df.iloc[i,1].shape == img_shape for i in range(len(df))]\n",
    "\n",
    "df = df[is_shaped]"
   ]
  },
  {
   "cell_type": "code",
   "execution_count": 218,
   "metadata": {},
   "outputs": [],
   "source": [
    "# keras wants a row for each class, so we need a `not_cnt` row\n",
    "df['no_cnt'] = [int(not(i)) for i in df['has_cnt']]"
   ]
  },
  {
   "cell_type": "code",
   "execution_count": 219,
   "metadata": {},
   "outputs": [
    {
     "data": {
      "text/html": [
       "<div>\n",
       "<style scoped>\n",
       "    .dataframe tbody tr th:only-of-type {\n",
       "        vertical-align: middle;\n",
       "    }\n",
       "\n",
       "    .dataframe tbody tr th {\n",
       "        vertical-align: top;\n",
       "    }\n",
       "\n",
       "    .dataframe thead th {\n",
       "        text-align: right;\n",
       "    }\n",
       "</style>\n",
       "<table border=\"1\" class=\"dataframe\">\n",
       "  <thead>\n",
       "    <tr style=\"text-align: right;\">\n",
       "      <th></th>\n",
       "      <th>name</th>\n",
       "      <th>img</th>\n",
       "      <th>diameter</th>\n",
       "      <th>has_cnt</th>\n",
       "      <th>no_cnt</th>\n",
       "    </tr>\n",
       "  </thead>\n",
       "  <tbody>\n",
       "    <tr>\n",
       "      <th>0</th>\n",
       "      <td>193_'0.jpg-1-0</td>\n",
       "      <td>[[196, 92, 149, 73, 78, 159, 77, 157, 84, 149,...</td>\n",
       "      <td>48.259714</td>\n",
       "      <td>1</td>\n",
       "      <td>0</td>\n",
       "    </tr>\n",
       "    <tr>\n",
       "      <th>1</th>\n",
       "      <td>193_'0.jpg-2-0</td>\n",
       "      <td>[[116, 161, 122, 176, 149, 203, 183, 141, 100,...</td>\n",
       "      <td>21.213203</td>\n",
       "      <td>1</td>\n",
       "      <td>0</td>\n",
       "    </tr>\n",
       "    <tr>\n",
       "      <th>2</th>\n",
       "      <td>193_'0.jpg-3-0</td>\n",
       "      <td>[[137, 97, 87, 79, 166, 108, 124, 164, 168, 93...</td>\n",
       "      <td>59.816386</td>\n",
       "      <td>1</td>\n",
       "      <td>0</td>\n",
       "    </tr>\n",
       "    <tr>\n",
       "      <th>3</th>\n",
       "      <td>193_'0.jpg-4-0</td>\n",
       "      <td>[[63, 99, 163, 177, 175, 156, 146, 143, 119, 9...</td>\n",
       "      <td>20.248457</td>\n",
       "      <td>1</td>\n",
       "      <td>0</td>\n",
       "    </tr>\n",
       "    <tr>\n",
       "      <th>4</th>\n",
       "      <td>193_'0.jpg-5-0</td>\n",
       "      <td>[[158, 144, 212, 136, 150, 153, 150, 148, 216,...</td>\n",
       "      <td>29.546573</td>\n",
       "      <td>1</td>\n",
       "      <td>0</td>\n",
       "    </tr>\n",
       "    <tr>\n",
       "      <th>5</th>\n",
       "      <td>193_'0.jpg-6-0</td>\n",
       "      <td>[[186, 168, 119, 148, 168, 182, 125, 152, 149,...</td>\n",
       "      <td>14.317821</td>\n",
       "      <td>1</td>\n",
       "      <td>0</td>\n",
       "    </tr>\n",
       "    <tr>\n",
       "      <th>6</th>\n",
       "      <td>193_'0.jpg_neg-0</td>\n",
       "      <td>[[69, 85, 74, 43, 104, 83, 118, 164, 145, 81, ...</td>\n",
       "      <td>0.000000</td>\n",
       "      <td>0</td>\n",
       "      <td>1</td>\n",
       "    </tr>\n",
       "    <tr>\n",
       "      <th>7</th>\n",
       "      <td>193_'0.jpg_neg-1</td>\n",
       "      <td>[[136, 85, 131, 104, 82, 52, 177, 172, 180, 10...</td>\n",
       "      <td>0.000000</td>\n",
       "      <td>0</td>\n",
       "      <td>1</td>\n",
       "    </tr>\n",
       "    <tr>\n",
       "      <th>8</th>\n",
       "      <td>193_'0.jpg_neg-2</td>\n",
       "      <td>[[137, 168, 190, 118, 125, 41, 147, 54, 67, 10...</td>\n",
       "      <td>0.000000</td>\n",
       "      <td>0</td>\n",
       "      <td>1</td>\n",
       "    </tr>\n",
       "    <tr>\n",
       "      <th>9</th>\n",
       "      <td>193_'0.jpg_neg-3</td>\n",
       "      <td>[[172, 216, 172, 167, 206, 124, 161, 122, 158,...</td>\n",
       "      <td>0.000000</td>\n",
       "      <td>0</td>\n",
       "      <td>1</td>\n",
       "    </tr>\n",
       "  </tbody>\n",
       "</table>\n",
       "</div>"
      ],
      "text/plain": [
       "               name                                                img  \\\n",
       "0    193_'0.jpg-1-0  [[196, 92, 149, 73, 78, 159, 77, 157, 84, 149,...   \n",
       "1    193_'0.jpg-2-0  [[116, 161, 122, 176, 149, 203, 183, 141, 100,...   \n",
       "2    193_'0.jpg-3-0  [[137, 97, 87, 79, 166, 108, 124, 164, 168, 93...   \n",
       "3    193_'0.jpg-4-0  [[63, 99, 163, 177, 175, 156, 146, 143, 119, 9...   \n",
       "4    193_'0.jpg-5-0  [[158, 144, 212, 136, 150, 153, 150, 148, 216,...   \n",
       "5    193_'0.jpg-6-0  [[186, 168, 119, 148, 168, 182, 125, 152, 149,...   \n",
       "6  193_'0.jpg_neg-0  [[69, 85, 74, 43, 104, 83, 118, 164, 145, 81, ...   \n",
       "7  193_'0.jpg_neg-1  [[136, 85, 131, 104, 82, 52, 177, 172, 180, 10...   \n",
       "8  193_'0.jpg_neg-2  [[137, 168, 190, 118, 125, 41, 147, 54, 67, 10...   \n",
       "9  193_'0.jpg_neg-3  [[172, 216, 172, 167, 206, 124, 161, 122, 158,...   \n",
       "\n",
       "    diameter has_cnt  no_cnt  \n",
       "0  48.259714       1       0  \n",
       "1  21.213203       1       0  \n",
       "2  59.816386       1       0  \n",
       "3  20.248457       1       0  \n",
       "4  29.546573       1       0  \n",
       "5  14.317821       1       0  \n",
       "6   0.000000       0       1  \n",
       "7   0.000000       0       1  \n",
       "8   0.000000       0       1  \n",
       "9   0.000000       0       1  "
      ]
     },
     "execution_count": 219,
     "metadata": {},
     "output_type": "execute_result"
    }
   ],
   "source": [
    "df.head(10)"
   ]
  },
  {
   "cell_type": "code",
   "execution_count": 220,
   "metadata": {},
   "outputs": [],
   "source": [
    "X = df['img']\n",
    "y = df[['has_cnt','no_cnt']]\n",
    "\n",
    "X_train,X_test, y_train, y_test = train_test_split(X,y, test_size = 0.2, random_state = 42)\n",
    "\n",
    "# Keras wants one giant array, rather than a list of arrays\n",
    "X_train = np.concatenate([*X_train]).reshape(len(X_train),128,128,1)\n",
    "X_test = np.concatenate([*X_test]).reshape(len(X_test),128,128,1)"
   ]
  },
  {
   "cell_type": "code",
   "execution_count": 259,
   "metadata": {},
   "outputs": [],
   "source": [
    "cnn_model = Sequential()\n",
    "\n",
    "cnn_model.add(MaxPooling2D(pool_size=(2, 2),\n",
    "                          input_shape=(128, 128, 1)))\n",
    "\n",
    "cnn_model.add(Conv2D(filters=12,            # number of filters\n",
    "                     kernel_size=(3, 3),        # height/width of filter\n",
    "                     activation='relu'))     # activation function\n",
    "\n",
    "cnn_model.add(MaxPooling2D(pool_size=(2, 2)))\n",
    "\n",
    "cnn_model.add(Conv2D(16,\n",
    "                     kernel_size = (3, 3),\n",
    "                     activation='relu'))\n",
    "\n",
    "cnn_model.add(MaxPooling2D(pool_size=(2, 2)))\n",
    "\n",
    "cnn_model.add(Flatten())\n",
    "\n",
    "# Add a densely-connected layer with 128 neurons.\n",
    "cnn_model.add(Dense(128, activation='relu'))\n",
    "\n",
    "# Add a final layer with 10 neurons.\n",
    "cnn_model.add(Dense(2, activation='softmax'))\n",
    "\n",
    "# Compile model\n",
    "cnn_model.compile(loss='categorical_crossentropy',\n",
    "                  optimizer='adam',\n",
    "                  metrics=['accuracy'])"
   ]
  },
  {
   "cell_type": "code",
   "execution_count": 260,
   "metadata": {},
   "outputs": [
    {
     "name": "stdout",
     "output_type": "stream",
     "text": [
      "Train on 1626 samples, validate on 407 samples\n",
      "Epoch 1/10\n",
      "1626/1626 [==============================] - 6s 4ms/sample - loss: 154.1678 - acc: 0.5301 - val_loss: 68.2612 - val_acc: 0.5602\n",
      "Epoch 2/10\n",
      "1626/1626 [==============================] - 7s 4ms/sample - loss: 43.9410 - acc: 0.5074 - val_loss: 63.7096 - val_acc: 0.4398\n",
      "Epoch 3/10\n",
      "1626/1626 [==============================] - 8s 5ms/sample - loss: 52.8555 - acc: 0.4170 - val_loss: 7.9918 - val_acc: 0.4398\n",
      "Epoch 4/10\n",
      "1626/1626 [==============================] - 7s 4ms/sample - loss: 10.6574 - acc: 0.5166 - val_loss: 21.9877 - val_acc: 0.5602\n",
      "Epoch 5/10\n",
      "1626/1626 [==============================] - 6s 4ms/sample - loss: 20.2050 - acc: 0.5830 - val_loss: 14.7052 - val_acc: 0.5602\n",
      "Epoch 6/10\n",
      "1626/1626 [==============================] - 7s 4ms/sample - loss: 9.5197 - acc: 0.5830 - val_loss: 2.9490 - val_acc: 0.4373\n",
      "Epoch 7/10\n",
      "1626/1626 [==============================] - 7s 4ms/sample - loss: 4.6801 - acc: 0.4170 - val_loss: 1.0646 - val_acc: 0.4914\n",
      "Epoch 8/10\n",
      "1626/1626 [==============================] - 7s 4ms/sample - loss: 2.0844 - acc: 0.5363 - val_loss: 2.3889 - val_acc: 0.5602\n",
      "Epoch 9/10\n",
      "1626/1626 [==============================] - 7s 4ms/sample - loss: 1.5020 - acc: 0.5529 - val_loss: 1.3981 - val_acc: 0.4570\n",
      "Epoch 10/10\n",
      "1626/1626 [==============================] - 6s 4ms/sample - loss: 1.3524 - acc: 0.4397 - val_loss: 0.8202 - val_acc: 0.5307\n"
     ]
    }
   ],
   "source": [
    "# Fit model on training data\n",
    "history = cnn_model.fit(X_train,\n",
    "                        y_train,\n",
    "                        batch_size=512,\n",
    "                        validation_data=(X_test, y_test),\n",
    "                        epochs=10,\n",
    "                        verbose=1)"
   ]
  },
  {
   "cell_type": "code",
   "execution_count": 255,
   "metadata": {},
   "outputs": [
    {
     "data": {
      "image/png": "[encoded data removed]",
      "text/plain": [
       "<Figure size 720x576 with 1 Axes>"
      ]
     },
     "metadata": {
      "needs_background": "light"
     },
     "output_type": "display_data"
    }
   ],
   "source": [
    "plt.figure(figsize = (10,8))\n",
    "plt.plot(history.history['val_acc'],label = \"Validation Accuracy\")\n",
    "plt.plot(history.history['acc'],label = \"Training Accuracy\")\n",
    "plt.plot(np.arange(len(history.history['acc'])),\n",
    "         len(history.history['acc']) * [baseline],\n",
    "        label = \"Baseline Accuracy\")\n",
    "#plt.plot(history_no_augs.history['val_loss'],label = \"Validation Loss\")\n",
    "#plt.plot(history_no_augs.history['loss'],label = \"Training Loss\")\n",
    "plt.legend()\n",
    "plt.ylabel('Accuracy')\n",
    "plt.xlabel('Epochs')\n",
    "plt.title('8-Fold Data Augmentation')\n",
    "\n",
    "plt.savefig('./images/acc_plot_with_aug',dpi = 300)"
   ]
  },
  {
   "cell_type": "code",
   "execution_count": null,
   "metadata": {},
   "outputs": [],
   "source": [
    "plt.figure(figsize = (20,16))\n",
    "plt.plot()"
   ]
  },
  {
   "cell_type": "code",
   "execution_count": 230,
   "metadata": {},
   "outputs": [
    {
     "name": "stdout",
     "output_type": "stream",
     "text": [
      "Train on 1626 samples, validate on 407 samples\n",
      "Epoch 1/50\n",
      "1626/1626 [==============================] - 7s 5ms/sample - loss: 60.3363 - acc: 0.5387 - val_loss: 20.3034 - val_acc: 0.5602\n",
      "Epoch 2/50\n",
      "1626/1626 [==============================] - 7s 4ms/sample - loss: 10.8038 - acc: 0.4822 - val_loss: 4.1150 - val_acc: 0.4398\n",
      "Epoch 3/50\n",
      "1626/1626 [==============================] - 6s 4ms/sample - loss: 3.1385 - acc: 0.5234 - val_loss: 1.9639 - val_acc: 0.5602\n",
      "Epoch 4/50\n",
      "1626/1626 [==============================] - 6s 4ms/sample - loss: 1.6828 - acc: 0.4889 - val_loss: 0.9885 - val_acc: 0.4963\n",
      "Epoch 5/50\n",
      "1626/1626 [==============================] - 6s 4ms/sample - loss: 1.0887 - acc: 0.5744 - val_loss: 1.1194 - val_acc: 0.5749\n",
      "Epoch 6/50\n",
      "1626/1626 [==============================] - 5s 3ms/sample - loss: 0.8687 - acc: 0.5664 - val_loss: 0.8836 - val_acc: 0.5528\n",
      "Epoch 7/50\n",
      "1626/1626 [==============================] - 5s 3ms/sample - loss: 0.7874 - acc: 0.6033 - val_loss: 0.7430 - val_acc: 0.5872\n",
      "Epoch 8/50\n",
      "1626/1626 [==============================] - 6s 3ms/sample - loss: 0.6496 - acc: 0.6445 - val_loss: 0.6976 - val_acc: 0.6020\n",
      "Epoch 9/50\n",
      "1626/1626 [==============================] - 6s 4ms/sample - loss: 0.5934 - acc: 0.6759 - val_loss: 0.6668 - val_acc: 0.6167\n",
      "Epoch 10/50\n",
      "1626/1626 [==============================] - 6s 4ms/sample - loss: 0.5437 - acc: 0.7159 - val_loss: 0.6255 - val_acc: 0.6634\n",
      "Epoch 11/50\n",
      "1626/1626 [==============================] - 6s 4ms/sample - loss: 0.5007 - acc: 0.7435 - val_loss: 0.5881 - val_acc: 0.6757\n",
      "Epoch 12/50\n",
      "1626/1626 [==============================] - 6s 3ms/sample - loss: 0.4529 - acc: 0.7884 - val_loss: 0.5475 - val_acc: 0.7396\n",
      "Epoch 13/50\n",
      "1626/1626 [==============================] - 5s 3ms/sample - loss: 0.4076 - acc: 0.8149 - val_loss: 0.4929 - val_acc: 0.7592\n",
      "Epoch 14/50\n",
      "1626/1626 [==============================] - 6s 4ms/sample - loss: 0.3614 - acc: 0.8462 - val_loss: 0.4710 - val_acc: 0.7469\n",
      "Epoch 15/50\n",
      "1626/1626 [==============================] - 8s 5ms/sample - loss: 0.3243 - acc: 0.8610 - val_loss: 0.4586 - val_acc: 0.7936\n",
      "Epoch 16/50\n",
      "1626/1626 [==============================] - 7s 5ms/sample - loss: 0.2989 - acc: 0.8813 - val_loss: 0.4516 - val_acc: 0.8157\n",
      "Epoch 17/50\n",
      "1626/1626 [==============================] - 7s 4ms/sample - loss: 0.2577 - acc: 0.9028 - val_loss: 0.4179 - val_acc: 0.7985\n",
      "Epoch 18/50\n",
      "1626/1626 [==============================] - 7s 4ms/sample - loss: 0.2334 - acc: 0.9145 - val_loss: 0.4014 - val_acc: 0.8084\n",
      "Epoch 19/50\n",
      "1626/1626 [==============================] - 6s 4ms/sample - loss: 0.2087 - acc: 0.9360 - val_loss: 0.4014 - val_acc: 0.8206\n",
      "Epoch 20/50\n",
      "1626/1626 [==============================] - 7s 4ms/sample - loss: 0.1882 - acc: 0.9373 - val_loss: 0.4420 - val_acc: 0.8329\n",
      "Epoch 21/50\n",
      "1626/1626 [==============================] - 7s 4ms/sample - loss: 0.1755 - acc: 0.9416 - val_loss: 0.3831 - val_acc: 0.8698\n",
      "Epoch 22/50\n",
      "1626/1626 [==============================] - 7s 4ms/sample - loss: 0.1652 - acc: 0.9520 - val_loss: 0.3787 - val_acc: 0.8477\n",
      "Epoch 23/50\n",
      "1626/1626 [==============================] - 7s 4ms/sample - loss: 0.1503 - acc: 0.9569 - val_loss: 0.4057 - val_acc: 0.8428\n",
      "Epoch 24/50\n",
      "1626/1626 [==============================] - 6s 4ms/sample - loss: 0.1391 - acc: 0.9588 - val_loss: 0.3688 - val_acc: 0.8821\n",
      "Epoch 25/50\n",
      "1626/1626 [==============================] - 7s 4ms/sample - loss: 0.1216 - acc: 0.9668 - val_loss: 0.3812 - val_acc: 0.8796\n",
      "Epoch 26/50\n",
      "1626/1626 [==============================] - 6s 4ms/sample - loss: 0.1061 - acc: 0.9772 - val_loss: 0.3680 - val_acc: 0.8870\n",
      "Epoch 27/50\n",
      "1626/1626 [==============================] - 6s 4ms/sample - loss: 0.0943 - acc: 0.9846 - val_loss: 0.3774 - val_acc: 0.8747\n",
      "Epoch 28/50\n",
      "1626/1626 [==============================] - 6s 4ms/sample - loss: 0.0888 - acc: 0.9822 - val_loss: 0.3524 - val_acc: 0.8993\n",
      "Epoch 29/50\n",
      "1626/1626 [==============================] - 7s 4ms/sample - loss: 0.0773 - acc: 0.9871 - val_loss: 0.3660 - val_acc: 0.8870\n",
      "Epoch 30/50\n",
      "1626/1626 [==============================] - 6s 4ms/sample - loss: 0.0683 - acc: 0.9889 - val_loss: 0.3790 - val_acc: 0.8894\n",
      "Epoch 31/50\n",
      "1626/1626 [==============================] - 7s 4ms/sample - loss: 0.0603 - acc: 0.9920 - val_loss: 0.3663 - val_acc: 0.9017\n",
      "Epoch 32/50\n",
      "1626/1626 [==============================] - 6s 4ms/sample - loss: 0.0552 - acc: 0.9957 - val_loss: 0.3702 - val_acc: 0.9017\n",
      "Epoch 33/50\n",
      "1626/1626 [==============================] - 7s 4ms/sample - loss: 0.0467 - acc: 0.9975 - val_loss: 0.3848 - val_acc: 0.8943\n",
      "Epoch 34/50\n",
      "1626/1626 [==============================] - 7s 4ms/sample - loss: 0.0451 - acc: 0.9988 - val_loss: 0.3759 - val_acc: 0.8993\n",
      "Epoch 35/50\n",
      "1626/1626 [==============================] - 7s 5ms/sample - loss: 0.0394 - acc: 0.9988 - val_loss: 0.3755 - val_acc: 0.9066\n",
      "Epoch 36/50\n",
      "1626/1626 [==============================] - 7s 4ms/sample - loss: 0.0349 - acc: 0.9994 - val_loss: 0.4002 - val_acc: 0.8993\n",
      "Epoch 37/50\n",
      "1626/1626 [==============================] - 7s 5ms/sample - loss: 0.0353 - acc: 0.9994 - val_loss: 0.4040 - val_acc: 0.8993\n",
      "Epoch 38/50\n",
      "1626/1626 [==============================] - 7s 5ms/sample - loss: 0.0334 - acc: 0.9994 - val_loss: 0.3869 - val_acc: 0.9066\n",
      "Epoch 39/50\n",
      "1626/1626 [==============================] - 7s 5ms/sample - loss: 0.0280 - acc: 0.9988 - val_loss: 0.3944 - val_acc: 0.9066\n",
      "Epoch 40/50\n",
      "1626/1626 [==============================] - 7s 4ms/sample - loss: 0.0229 - acc: 0.9994 - val_loss: 0.4034 - val_acc: 0.9091\n",
      "Epoch 41/50\n",
      "1626/1626 [==============================] - 7s 4ms/sample - loss: 0.0210 - acc: 1.0000 - val_loss: 0.4072 - val_acc: 0.9091\n",
      "Epoch 42/50\n",
      "1626/1626 [==============================] - 7s 4ms/sample - loss: 0.0197 - acc: 1.0000 - val_loss: 0.4114 - val_acc: 0.9091\n",
      "Epoch 43/50\n",
      "1626/1626 [==============================] - 7s 4ms/sample - loss: 0.0176 - acc: 1.0000 - val_loss: 0.4239 - val_acc: 0.9091\n",
      "Epoch 44/50\n",
      "1626/1626 [==============================] - 7s 4ms/sample - loss: 0.0166 - acc: 1.0000 - val_loss: 0.4308 - val_acc: 0.9017\n",
      "Epoch 45/50\n",
      "1626/1626 [==============================] - 7s 4ms/sample - loss: 0.0152 - acc: 1.0000 - val_loss: 0.4308 - val_acc: 0.9091\n",
      "Epoch 46/50\n",
      "1626/1626 [==============================] - 7s 4ms/sample - loss: 0.0144 - acc: 1.0000 - val_loss: 0.4334 - val_acc: 0.9091\n",
      "Epoch 47/50\n",
      "1626/1626 [==============================] - 6s 4ms/sample - loss: 0.0135 - acc: 1.0000 - val_loss: 0.4397 - val_acc: 0.8993\n",
      "Epoch 48/50\n",
      "1626/1626 [==============================] - 7s 4ms/sample - loss: 0.0123 - acc: 1.0000 - val_loss: 0.4452 - val_acc: 0.8993\n",
      "Epoch 49/50\n",
      "1626/1626 [==============================] - 7s 4ms/sample - loss: 0.0118 - acc: 1.0000 - val_loss: 0.4472 - val_acc: 0.9042\n",
      "Epoch 50/50\n",
      "1626/1626 [==============================] - 6s 4ms/sample - loss: 0.0108 - acc: 1.0000 - val_loss: 0.4484 - val_acc: 0.9042\n"
     ]
    }
   ],
   "source": [
    "history_no_augs = cnn_model.fit(X_train,\n",
    "                        y_train,\n",
    "                        batch_size=512,\n",
    "                        validation_data=(X_test, y_test),\n",
    "                        epochs=50,\n",
    "                        verbose=1)"
   ]
  },
  {
   "cell_type": "code",
   "execution_count": 225,
   "metadata": {},
   "outputs": [
    {
     "data": {
      "text/plain": [
       "dict_keys(['loss', 'acc', 'val_loss', 'val_acc'])"
      ]
     },
     "execution_count": 225,
     "metadata": {},
     "output_type": "execute_result"
    }
   ],
   "source": [
    "history_no_augs.history.keys()"
   ]
  },
  {
   "cell_type": "code",
   "execution_count": 249,
   "metadata": {},
   "outputs": [],
   "source": [
    "baseline = 1 - y_test['has_cnt'].mean()"
   ]
  },
  {
   "cell_type": "code",
   "execution_count": 256,
   "metadata": {},
   "outputs": [
    {
     "data": {
      "image/png": "[encoded data removed]",
      "text/plain": [
       "<Figure size 720x576 with 1 Axes>"
      ]
     },
     "metadata": {
      "needs_background": "light"
     },
     "output_type": "display_data"
    }
   ],
   "source": [
    "plt.figure(figsize = (10,8))\n",
    "plt.plot(history_no_augs.history['val_acc'],label = \"Validation Accuracy\")\n",
    "plt.plot(history_no_augs.history['acc'],label = \"Training Accuracy\")\n",
    "plt.plot(np.arange(len(history_no_augs.history['acc'])),\n",
    "         len(history_no_augs.history['acc']) * [baseline],\n",
    "        label = \"Baseline Accuracy\")\n",
    "#plt.plot(history_no_augs.history['val_loss'],label = \"Validation Loss\")\n",
    "#plt.plot(history_no_augs.history['loss'],label = \"Training Loss\")\n",
    "plt.legend()\n",
    "plt.ylabel('Accuracy')\n",
    "plt.xlabel('Epochs')\n",
    "plt.title('No Data Augmentation')\n",
    "\n",
    "plt.savefig('./images/acc_plot_no_aug',dpi = 300)"
   ]
  },
  {
   "cell_type": "code",
   "execution_count": 209,
   "metadata": {},
   "outputs": [
    {
     "data": {
      "text/plain": [
       "0.5784554845056566"
      ]
     },
     "execution_count": 209,
     "metadata": {},
     "output_type": "execute_result"
    }
   ],
   "source": [
    "1 - df['has_cnt'].mean()"
   ]
  }
 ],
 "metadata": {
  "kernelspec": {
   "display_name": "Python [conda env:dsi] *",
   "language": "python",
   "name": "conda-env-dsi-py"
  },
  "language_info": {
   "codemirror_mode": {
    "name": "ipython",
    "version": 3
   },
   "file_extension": ".py",
   "mimetype": "text/x-python",
   "name": "python",
   "nbconvert_exporter": "python",
   "pygments_lexer": "ipython3",
   "version": "3.7.7"
  }
 },
 "nbformat": 4,
 "nbformat_minor": 4
}
